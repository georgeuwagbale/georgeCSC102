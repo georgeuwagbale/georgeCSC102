{
 "cells": [
  {
   "cell_type": "markdown",
   "metadata": {},
   "source": [
    "## Question 4"
   ]
  },
  {
   "cell_type": "code",
   "execution_count": 3,
   "metadata": {},
   "outputs": [
    {
     "name": "stdout",
     "output_type": "stream",
     "text": [
      "Input a word: WoRdY\n",
      "No of Uppercase: 3, No of Lowercase: 2\n"
     ]
    }
   ],
   "source": [
    "def isUpper_Or_isLower(letter):\n",
    "    no_of_uppercase = 0\n",
    "    no_of_lowercase = 0\n",
    "    for letters in letter:\n",
    "        if letters.isupper():\n",
    "            no_of_uppercase +=1\n",
    "        elif letters.islower():\n",
    "            no_of_lowercase +=1\n",
    "    return f\"No of Uppercase: {no_of_uppercase}, No of Lowercase: {no_of_lowercase}\"\n",
    "    \n",
    "letter = input(\"Input a word: \")\n",
    "print( isUpper_Or_isLower(letter) )\n",
    "    \n",
    "            "
   ]
  },
  {
   "cell_type": "markdown",
   "metadata": {},
   "source": [
    "## Question 3"
   ]
  },
  {
   "cell_type": "code",
   "execution_count": 10,
   "metadata": {},
   "outputs": [
    {
     "name": "stdout",
     "output_type": "stream",
     "text": [
      "Input a number: 2\n",
      "False\n"
     ]
    }
   ],
   "source": [
    "def cube(number):\n",
    "    result = number**3\n",
    "    return result\n",
    "def by_three(number):\n",
    "    if number % 3 == 0:\n",
    "        result = cube(number)\n",
    "        return result\n",
    "    else:\n",
    "        return False \n",
    "    \n",
    "number = int(input(\"Input a number: \"))\n",
    "print( by_three(number) )\n",
    "\n"
   ]
  },
  {
   "cell_type": "markdown",
   "metadata": {},
   "source": [
    "## Question 1"
   ]
  },
  {
   "cell_type": "code",
   "execution_count": null,
   "metadata": {},
   "outputs": [],
   "source": [
    "def shut_down(keyboard_input):\n",
    "    if keyboard_input == \"yes\":\n",
    "        return \"Shutting down\"\n",
    "    elif "
   ]
  }
 ],
 "metadata": {
  "kernelspec": {
   "display_name": "Python 3",
   "language": "python",
   "name": "python3"
  },
  "language_info": {
   "codemirror_mode": {
    "name": "ipython",
    "version": 3
   },
   "file_extension": ".py",
   "mimetype": "text/x-python",
   "name": "python",
   "nbconvert_exporter": "python",
   "pygments_lexer": "ipython3",
   "version": "3.8.5"
  }
 },
 "nbformat": 4,
 "nbformat_minor": 4
}
