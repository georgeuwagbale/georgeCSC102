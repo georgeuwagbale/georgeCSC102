{
 "cells": [
  {
   "cell_type": "markdown",
   "metadata": {},
   "source": [
    "## Question 4"
   ]
  },
  {
   "cell_type": "code",
   "execution_count": 1,
   "metadata": {},
   "outputs": [
    {
     "name": "stdout",
     "output_type": "stream",
     "text": [
      "Input a word: LIuGliuGliGVligklyflLUGvfKjFVKjglj\n",
      "No of Uppercase: 13, No of Lowercase: 21\n"
     ]
    }
   ],
   "source": [
    "def isUpper_Or_isLower(letter):\n",
    "    no_of_uppercase = 0\n",
    "    no_of_lowercase = 0\n",
    "    \n",
    "    for letters in letter:\n",
    "        if letters.isupper():\n",
    "            no_of_uppercase +=1\n",
    "        elif letters.islower():\n",
    "            no_of_lowercase +=1\n",
    "    return f\"No of Uppercase: {no_of_uppercase}, No of Lowercase: {no_of_lowercase}\"\n",
    "    \n",
    "Letter = input(\"Input a word: \")\n",
    "print( isUpper_Or_isLower(Letter) )\n",
    "    \n",
    "            "
   ]
  },
  {
   "cell_type": "markdown",
   "metadata": {},
   "source": [
    "## Question 3"
   ]
  },
  {
   "cell_type": "code",
   "execution_count": 14,
   "metadata": {},
   "outputs": [
    {
     "name": "stdout",
     "output_type": "stream",
     "text": [
      "Input a number: 7\n",
      "False\n"
     ]
    }
   ],
   "source": [
    "def cube(number):\n",
    "    result = number**3\n",
    "    return result\n",
    "\n",
    "def by_three(number):\n",
    "    if number % 3 == 0:\n",
    "        result = cube(number)\n",
    "        return result\n",
    "    else:\n",
    "        return False \n",
    "    \n",
    "Number = int(input(\"Input a number: \"))\n",
    "print( by_three(Number) )\n"
   ]
  },
  {
   "cell_type": "markdown",
   "metadata": {},
   "source": [
    "## Question 1"
   ]
  },
  {
   "cell_type": "code",
   "execution_count": 12,
   "metadata": {},
   "outputs": [
    {
     "name": "stdout",
     "output_type": "stream",
     "text": [
      "Do you want to shutdown? : j\n",
      "Sorry, such argument is not welcomed here\n"
     ]
    }
   ],
   "source": [
    "def shut_down(keyboard_input):\n",
    "    if keyboard_input == \"yes\":\n",
    "        return \"Shutting down\"\n",
    "    elif keyboard_input == \"no\":\n",
    "        return \"Shutdown aborted\"\n",
    "    else:\n",
    "        return \"Sorry, such argument is not welcomed here\"\n",
    "\n",
    "Keyboard_input = input(\"Do you want to shutdown? : \")\n",
    "print( shut_down(Keyboard_input) )"
   ]
  },
  {
   "cell_type": "markdown",
   "metadata": {},
   "source": [
    "## Question 2"
   ]
  },
  {
   "cell_type": "code",
   "execution_count": 9,
   "metadata": {},
   "outputs": [
    {
     "name": "stdout",
     "output_type": "stream",
     "text": [
      "Input your name: george\n",
      "Input your salary: 324356\n",
      "Input your name: Ike\n",
      "Input your salary: 2435798\n",
      "Input your name: Sis\n",
      "Input your salary: 3243798\n"
     ]
    },
    {
     "data": {
      "text/html": [
       "<div>\n",
       "<style scoped>\n",
       "    .dataframe tbody tr th:only-of-type {\n",
       "        vertical-align: middle;\n",
       "    }\n",
       "\n",
       "    .dataframe tbody tr th {\n",
       "        vertical-align: top;\n",
       "    }\n",
       "\n",
       "    .dataframe thead th {\n",
       "        text-align: right;\n",
       "    }\n",
       "</style>\n",
       "<table border=\"1\" class=\"dataframe\">\n",
       "  <thead>\n",
       "    <tr style=\"text-align: right;\">\n",
       "      <th></th>\n",
       "      <th>Name</th>\n",
       "      <th>Salary</th>\n",
       "    </tr>\n",
       "  </thead>\n",
       "  <tbody>\n",
       "    <tr>\n",
       "      <th>0</th>\n",
       "      <td>\u001b[31mgeorge\u001b[0m</td>\n",
       "      <td>\u001b[31m324356\u001b[0m</td>\n",
       "    </tr>\n",
       "    <tr>\n",
       "      <th>1</th>\n",
       "      <td>\u001b[32mIke\u001b[0m</td>\n",
       "      <td>\u001b[32m2435798\u001b[0m</td>\n",
       "    </tr>\n",
       "    <tr>\n",
       "      <th>2</th>\n",
       "      <td>\u001b[32mSis\u001b[0m</td>\n",
       "      <td>\u001b[32m3243798\u001b[0m</td>\n",
       "    </tr>\n",
       "  </tbody>\n",
       "</table>\n",
       "</div>"
      ],
      "text/plain": [
       "              Name            Salary\n",
       "0  \u001b[31mgeorge\u001b[0m   \u001b[31m324356\u001b[0m\n",
       "1     \u001b[32mIke\u001b[0m  \u001b[32m2435798\u001b[0m\n",
       "2     \u001b[32mSis\u001b[0m  \u001b[32m3243798\u001b[0m"
      ]
     },
     "execution_count": 9,
     "metadata": {},
     "output_type": "execute_result"
    }
   ],
   "source": [
    "import pandas as pd\n",
    "from termcolor import colored\n",
    "def showEmployee(name,salary):\n",
    "    data = {\"Name\":name,\n",
    "            \"Salary\":salary\n",
    "            }\n",
    "    frame = pd.DataFrame(data)\n",
    "    \n",
    "    frame.to_csv(\"Employee_register.csv\", index=False)\n",
    "\n",
    "    return frame\n",
    "\n",
    "Name = list()\n",
    "Salary = list()\n",
    "for a in range(3):\n",
    "    names = input(\"Input your name: \")\n",
    "    salaries =int(input(\"Input your salary: \"))\n",
    "    if salaries > 1000000:\n",
    "        Name.append(colored(names,\"green\"))\n",
    "        Salary.append(colored(salaries,\"green\"))\n",
    "    \n",
    "    elif salaries > 500000 and salaries < 1000000:\n",
    "        Name.append(colored(names,\"blue\"))\n",
    "        Salary.append(colored(salaries,\"blue\"))\n",
    "    \n",
    "    elif salaries < 500000:\n",
    "        Name.append(colored(names,\"red\"))\n",
    "        Salary.append(colored(salaries,\"red\"))\n",
    "    \n",
    "    elif salaries == \" \":\n",
    "        Name.append(colored(names,\"red\"))\n",
    "        Salary.append(colored(\"No salary for employee\", \"red\"))\n",
    "    \n",
    "\n",
    "showEmployee(Name,Salary)\n",
    "\n",
    "    "
   ]
  },
  {
   "cell_type": "code",
   "execution_count": 5,
   "metadata": {},
   "outputs": [
    {
     "name": "stdout",
     "output_type": "stream",
     "text": [
      "\u001b[36mHello\u001b[0m\n"
     ]
    }
   ],
   "source": [
    "from termcolor import colored\n",
    "text = colored(\"Hello\",\"cyan\")\n",
    "print(text)"
   ]
  },
  {
   "cell_type": "code",
   "execution_count": null,
   "metadata": {},
   "outputs": [],
   "source": []
  }
 ],
 "metadata": {
  "kernelspec": {
   "display_name": "Python 3",
   "language": "python",
   "name": "python3"
  },
  "language_info": {
   "codemirror_mode": {
    "name": "ipython",
    "version": 3
   },
   "file_extension": ".py",
   "mimetype": "text/x-python",
   "name": "python",
   "nbconvert_exporter": "python",
   "pygments_lexer": "ipython3",
   "version": "3.8.5"
  }
 },
 "nbformat": 4,
 "nbformat_minor": 4
}
