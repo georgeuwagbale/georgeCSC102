{
 "cells": [
  {
   "cell_type": "code",
   "execution_count": null,
   "metadata": {},
   "outputs": [],
   "source": [
    "1.A function that takes a list of task values\n",
    "2. A tax return is filled correctly if it contains ONLY whole numbers between\n",
    "   1 and 10 inclusive or the string values \"A\",\"X\",\"C\" or \"B\""
   ]
  },
  {
   "cell_type": "code",
   "execution_count": 6,
   "metadata": {},
   "outputs": [
    {
     "name": "stdout",
     "output_type": "stream",
     "text": [
      "How many entries do you want to enter: 4\n",
      "Input your return: A\n",
      "Input your return: 7\n",
      "Input your return: X\n",
      "Input your return: M\n",
      "$400\n"
     ]
    }
   ],
   "source": [
    "def tax_returns(sample_return):\n",
    "    value_of_return = 0\n",
    "    for returns in sample_return:\n",
    "        if returns in [\"1\",\"2\",\"3\",'4','5']:\n",
    "            value_of_return += 100\n",
    "        elif returns in ['6','7','8','9']:\n",
    "            value_of_return +=0\n",
    "        elif returns in ['10',\"A\",\"X\",\"C\"]:\n",
    "            value_of_return += 200\n",
    "        elif returns == \"B\":\n",
    "            value_of_return +=500\n",
    "        else:\n",
    "            value_of_return +=0\n",
    "        \n",
    "    return value_of_return\n",
    "\n",
    "Sample_return = list()\n",
    "no_of_entries = int(input(\"How many entries do you want to enter: \"))\n",
    "for a in range(no_of_entries):\n",
    "    Sample = input(\"Input your return: \")\n",
    "    Sample_return.append(Sample)\n",
    "\n",
    "print(f'Tax return = ${tax_returns(Sample_return)}')\n",
    "        \n",
    "            \n",
    "            \n",
    "        "
   ]
  }
 ],
 "metadata": {
  "kernelspec": {
   "display_name": "Python 3",
   "language": "python",
   "name": "python3"
  },
  "language_info": {
   "codemirror_mode": {
    "name": "ipython",
    "version": 3
   },
   "file_extension": ".py",
   "mimetype": "text/x-python",
   "name": "python",
   "nbconvert_exporter": "python",
   "pygments_lexer": "ipython3",
   "version": "3.8.5"
  }
 },
 "nbformat": 4,
 "nbformat_minor": 4
}
