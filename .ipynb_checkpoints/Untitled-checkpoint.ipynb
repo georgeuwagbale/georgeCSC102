{
 "cells": [
  {
   "cell_type": "markdown",
   "metadata": {},
   "source": [
    " ###George Ike Uwagbale"
   ]
  },
  {
   "cell_type": "code",
   "execution_count": null,
   "metadata": {},
   "outputs": [],
   "source": []
  },
  {
   "cell_type": "code",
   "execution_count": 1,
   "metadata": {},
   "outputs": [
    {
     "name": "stdout",
     "output_type": "stream",
     "text": [
      "Input a number: 5\n",
      "12\n"
     ]
    }
   ],
   "source": [
    "\"\"\"Write a Python program to get the difference between a given number and 17, if the number is greater than 17 return double the absolute difference.\"\"\"\n",
    "\n",
    "def difference():\n",
    "    value = int(input(\"Input a number: \"))\n",
    "    x = value - 17\n",
    "    if x > 17:\n",
    "        result = 2*x\n",
    "        return result\n",
    "\n",
    "    else:\n",
    "        return abs(x)\n",
    "\n",
    "print(difference())"
   ]
  },
  {
   "cell_type": "code",
   "execution_count": null,
   "metadata": {},
   "outputs": [],
   "source": [
    "\"\"\"Write a Python program to calculate the sum of three given numbers,if the values are equal then return thrice of their sum.\"\"\"\n",
    "\n",
    "def sum_of_three_numbers():\n",
    "    a = int(input(\"Input a number: \"))\n",
    "    b = int(input(\"Input a second number: \"))\n",
    "    c = int(input(\"Input a third number: \"))\n",
    "    if a==b==c:\n",
    "        result = (a + b + c) *3\n",
    "        return result\n",
    "    else:\n",
    "        result = a + b + c\n",
    "        return result\n",
    "\n",
    "print(sum_of_three_numbers())\n",
    "\n",
    "\n"
   ]
  },
  {
   "cell_type": "code",
   "execution_count": null,
   "metadata": {},
   "outputs": [],
   "source": [
    "\"\"\"Write a Python program which wil return true if the two given integer values are equal or their sum or difference is 5.\"\"\"\n",
    "\n",
    "def value():\n",
    "    a = int(input(\"Input an integer: \"))\n",
    "    b = int(input(\"Input an integer: \"))\n",
    "\n",
    "    if a == b:\n",
    "        return True\n",
    "    elif (a + b) == 5:\n",
    "        return True\n",
    "    elif (a - b) == 5:\n",
    "        return True\n",
    "   else:\n",
    "        return False\n",
    "print(value())\n"
   ]
  }
 ],
 "metadata": {
  "kernelspec": {
   "display_name": "Python 3",
   "language": "python",
   "name": "python3"
  },
  "language_info": {
   "codemirror_mode": {
    "name": "ipython",
    "version": 3
   },
   "file_extension": ".py",
   "mimetype": "text/x-python",
   "name": "python",
   "nbconvert_exporter": "python",
   "pygments_lexer": "ipython3",
   "version": "3.8.5"
  }
 },
 "nbformat": 4,
 "nbformat_minor": 4
}
