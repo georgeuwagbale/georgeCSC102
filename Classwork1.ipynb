{
 "cells": [
  {
   "cell_type": "markdown",
   "metadata": {},
   "source": [
    "## NAME: George Ike Uwagbale\n",
    "### MAT_NO: 20120612030\n",
    "### EMAIL: george.uwagbale@pau.edu.ng\n"
   ]
  },
  {
   "attachments": {
    "class_work.png": {
     "image/png": "[encoded data removed]"
    }
   },
   "cell_type": "markdown",
   "metadata": {},
   "source": [
    "![class_work.png](attachment:class_work.png)"
   ]
  },
  {
   "cell_type": "markdown",
   "metadata": {},
   "source": [
    "## Exercise 1\n",
    "##### Write a Python program to get the difference between a given number and 17, if the number is greater than 17 return double the absolute difference."
   ]
  },
  {
   "cell_type": "code",
   "execution_count": 1,
   "metadata": {},
   "outputs": [
    {
     "name": "stdout",
     "output_type": "stream",
     "text": [
      "Input a number: 5\n",
      "12\n"
     ]
    }
   ],
   "source": [
    "\"\"\"Write a Python program to get the difference between a given number and 17, if the number is greater than 17 return double the absolute difference.\"\"\"\n",
    "\n",
    "def difference():\n",
    "    value = int(input(\"Input a number: \"))\n",
    "    x = value - 17\n",
    "    if x > 17:\n",
    "        result = 2*x\n",
    "        return result\n",
    "\n",
    "    else:\n",
    "        return abs(x)\n",
    "\n",
    "print(difference())"
   ]
  },
  {
   "cell_type": "markdown",
   "metadata": {},
   "source": [
    "# Exercise 2\n",
    "#### Write a Python program to calculate the sum of three given numbers,if the values are equal then return thrice of their sum."
   ]
  },
  {
   "cell_type": "code",
   "execution_count": null,
   "metadata": {},
   "outputs": [],
   "source": [
    "\"\"\"Write a Python program to calculate the sum of three given numbers,if the values are equal then return thrice of their sum.\"\"\"\n",
    "\n",
    "def sum_of_three_numbers():\n",
    "    a = int(input(\"Input a number: \"))\n",
    "    b = int(input(\"Input a second number: \"))\n",
    "    c = int(input(\"Input a third number: \"))\n",
    "    if a==b==c:\n",
    "        result = (a + b + c) *3\n",
    "        return result\n",
    "    else:\n",
    "        result = a + b + c\n",
    "        return result\n",
    "\n",
    "print(sum_of_three_numbers())\n",
    "\n",
    "\n"
   ]
  },
  {
   "cell_type": "markdown",
   "metadata": {},
   "source": [
    "## Exercise 3\n",
    "#### Write a Python program which wil return true if the two given integer values are equal or their sum or difference is 5."
   ]
  },
  {
   "cell_type": "code",
   "execution_count": null,
   "metadata": {},
   "outputs": [],
   "source": [
    "\"\"\"Write a Python program which wil return true if the two given integer values are equal or their sum or difference is 5.\"\"\"\n",
    "\n",
    "def value():\n",
    "    a = int(input(\"Input an integer: \"))\n",
    "    b = int(input(\"Input an integer: \"))\n",
    "\n",
    "    if a == b:\n",
    "        return True\n",
    "    elif (a + b) == 5:\n",
    "        return True\n",
    "    elif (a - b) == 5:\n",
    "        return True\n",
    "   else:\n",
    "        return False\n",
    "print(value())\n"
   ]
  },
  {
   "cell_type": "markdown",
   "metadata": {},
   "source": [
    "## Exercise 4\n",
    "#### Write a Python program to sort three integers without using conditional statements and loops."
   ]
  },
  {
   "cell_type": "code",
   "execution_count": 5,
   "metadata": {
    "scrolled": true
   },
   "outputs": [
    {
     "name": "stdout",
     "output_type": "stream",
     "text": [
      "Input an integer: 5\n",
      "Input an integer: 8\n",
      "Input an integer: 9\n",
      "Maximum: 9, middle: 8, Minimum: 5\n"
     ]
    }
   ],
   "source": [
    "\"\"\"Write a Python program to sort three integers without using conditional statements and loops.\"\"\"\n",
    "a = int(input(\"Input an integer: \"))\n",
    "b = int(input(\"Input an integer: \"))\n",
    "c = int(input(\"Input an integer: \"))\n",
    "\n",
    "maximum = max(a,b,c)\n",
    "minimum = min(a,b,c)\n",
    "total = a+b+c\n",
    "middle = total - maximum - minimum\n",
    "print(f\"Maximum: {maximum}, middle: {middle}, Minimum: {minimum}\")"
   ]
  },
  {
   "cell_type": "markdown",
   "metadata": {},
   "source": [
    "## Exercise 5\n",
    "#### Write a Python function that takes a positive integer and returns the sum of the cube of all the positive integers smaller than the specified number"
   ]
  },
  {
   "cell_type": "code",
   "execution_count": 15,
   "metadata": {},
   "outputs": [
    {
     "name": "stdout",
     "output_type": "stream",
     "text": [
      "Input a positive integer: -9\n",
      "Input a positive integer\n"
     ]
    }
   ],
   "source": [
    "\"\"\"Write a Python function that takes a positive integer and returns the sum of the cube of all the positive integers smaller than the specified number\"\"\" \n",
    "\n",
    "def cube(value):\n",
    "    values_less_than = range(0,value)\n",
    "    result = 0\n",
    "    for num in values_less_than:\n",
    "        result += (num**3)"
   ]
  }
 ],
 "metadata": {
  "kernelspec": {
   "display_name": "Python 3",
   "language": "python",
   "name": "python3"
  },
  "language_info": {
   "codemirror_mode": {
    "name": "ipython",
    "version": 3
   },
   "file_extension": ".py",
   "mimetype": "text/x-python",
   "name": "python",
   "nbconvert_exporter": "python",
   "pygments_lexer": "ipython3",
   "version": "3.8.5"
  }
 },
 "nbformat": 4,
 "nbformat_minor": 4
}
